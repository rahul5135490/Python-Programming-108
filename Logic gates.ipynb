{
 "cells": [
  {
   "cell_type": "code",
   "execution_count": 1,
   "id": "abec9e19",
   "metadata": {},
   "outputs": [
    {
     "name": "stdout",
     "output_type": "stream",
     "text": [
      "True\n",
      "+---------------+----------------+\n",
      " | AND Truth Table | Result |\n",
      " A = False, B = False | A AND B = False  | \n",
      " A = False, B = True | A AND B = False  | \n",
      " A = True, B = False | A AND B = False  | \n",
      " A = True, B = True | A AND B = True  | \n"
     ]
    }
   ],
   "source": [
    "# Python3 program to illustrate\n",
    "# working of AND gate\n",
    " \n",
    "def AND (a, b):\n",
    " \n",
    "    if a == 1 and b == 1:\n",
    "        return True\n",
    "    else:\n",
    "        return False\n",
    " \n",
    "# Driver code\n",
    "if __name__=='__main__':\n",
    "    print(AND(1, 1))\n",
    " \n",
    "    print(\"+---------------+----------------+\")\n",
    "    print(\" | AND Truth Table | Result |\")\n",
    "    print(\" A = False, B = False | A AND B =\",AND(False,False),\" | \")\n",
    "    print(\" A = False, B = True | A AND B =\",AND(False,True),\" | \")\n",
    "    print(\" A = True, B = False | A AND B =\",AND(True,False),\" | \")\n",
    "    print(\" A = True, B = True | A AND B =\",AND(True,True),\" | \")"
   ]
  },
  {
   "cell_type": "code",
   "execution_count": 2,
   "id": "e7a324e9",
   "metadata": {},
   "outputs": [
    {
     "name": "stdout",
     "output_type": "stream",
     "text": [
      "True\n",
      "+---------------+----------------+\n",
      " | NAND Truth Table | Result |\n",
      " A = False, B = False | A AND B = True  | \n",
      " A = False, B = True | A AND B = True  | \n",
      " A = True, B = False | A AND B = True  | \n",
      " A = True, B = True | A AND B = False  | \n"
     ]
    }
   ],
   "source": [
    "# Python3 program to illustrate\n",
    "# working of NAND gate\n",
    " \n",
    "def NAND (a, b):\n",
    "    if a == 1 and b == 1:\n",
    "        return False\n",
    "    else:\n",
    "        return True\n",
    " \n",
    "# Driver code\n",
    "if __name__=='__main__':\n",
    "    print(NAND(1, 0))\n",
    " \n",
    "    print(\"+---------------+----------------+\")\n",
    "    print(\" | NAND Truth Table | Result |\")\n",
    "    print(\" A = False, B = False | A AND B =\",NAND(False,False),\" | \")\n",
    "    print(\" A = False, B = True | A AND B =\",NAND(False,True),\" | \")\n",
    "    print(\" A = True, B = False | A AND B =\",NAND(True,False),\" | \")\n",
    "    print(\" A = True, B = True | A AND B =\",NAND(True,True),\" | \")"
   ]
  },
  {
   "cell_type": "code",
   "execution_count": 3,
   "id": "95373abc",
   "metadata": {},
   "outputs": [
    {
     "name": "stdout",
     "output_type": "stream",
     "text": [
      "False\n",
      "+---------------+----------------+\n",
      " | OR Truth Table | Result |\n",
      " A = False, B = False | A OR B = False  | \n",
      " A = False, B = True | A OR B = True  | \n",
      " A = True, B = False | A OR B = True  | \n",
      " A = True, B = True | A OR B = True  | \n"
     ]
    }
   ],
   "source": [
    "# Python3 program to illustrate\n",
    "# working of OR gate\n",
    " \n",
    "def OR(a, b):\n",
    "    if a == 1 or b ==1:\n",
    "        return True\n",
    "    else:\n",
    "        return False\n",
    " \n",
    "# Driver code\n",
    "if __name__=='__main__':\n",
    "    print(OR(0, 0))\n",
    " \n",
    "    print(\"+---------------+----------------+\")\n",
    "    print(\" | OR Truth Table | Result |\")\n",
    "    print(\" A = False, B = False | A OR B =\",OR(False,False),\" | \")\n",
    "    print(\" A = False, B = True | A OR B =\",OR(False,True),\" | \")\n",
    "    print(\" A = True, B = False | A OR B =\",OR(True,False),\" | \")\n",
    "    print(\" A = True, B = True | A OR B =\",OR(True,True),\" | \")"
   ]
  },
  {
   "cell_type": "code",
   "execution_count": 4,
   "id": "77ec4431",
   "metadata": {},
   "outputs": [
    {
     "name": "stdout",
     "output_type": "stream",
     "text": [
      "0\n",
      "+---------------+----------------+\n",
      " | XOR Truth Table | Result |\n",
      " A = False, B = False | A XOR B = 0  | \n",
      " A = False, B = True | A XOR B = 1  | \n",
      " A = True, B = False | A XOR B = 1  | \n",
      " A = True, B = True | A XOR B = 0  | \n"
     ]
    }
   ],
   "source": [
    "# Python3 program to illustrate\n",
    "# working of Xor gate\n",
    " \n",
    "def XOR (a, b):\n",
    "    if a != b:\n",
    "        return 1\n",
    "    else:\n",
    "        return 0\n",
    " \n",
    "# Driver code\n",
    "if __name__=='__main__':\n",
    "    print(XOR(5, 5))\n",
    " \n",
    "    print(\"+---------------+----------------+\")\n",
    "    print(\" | XOR Truth Table | Result |\")\n",
    "    print(\" A = False, B = False | A XOR B =\",XOR(False,False),\" | \")\n",
    "    print(\" A = False, B = True | A XOR B =\",XOR(False,True),\" | \")\n",
    "    print(\" A = True, B = False | A XOR B =\",XOR(True,False),\" | \")\n",
    "    print(\" A = True, B = True | A XOR B =\",XOR(True,True),\" | \")"
   ]
  },
  {
   "cell_type": "code",
   "execution_count": null,
   "id": "eeaa9ee0",
   "metadata": {},
   "outputs": [],
   "source": []
  }
 ],
 "metadata": {
  "kernelspec": {
   "display_name": "Python 3 (ipykernel)",
   "language": "python",
   "name": "python3"
  },
  "language_info": {
   "codemirror_mode": {
    "name": "ipython",
    "version": 3
   },
   "file_extension": ".py",
   "mimetype": "text/x-python",
   "name": "python",
   "nbconvert_exporter": "python",
   "pygments_lexer": "ipython3",
   "version": "3.9.13"
  }
 },
 "nbformat": 4,
 "nbformat_minor": 5
}
